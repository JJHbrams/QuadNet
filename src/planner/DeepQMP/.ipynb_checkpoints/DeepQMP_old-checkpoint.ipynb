{
 "cells": [
  {
   "cell_type": "markdown",
   "metadata": {
    "id": "QxD_rEmgk6BB"
   },
   "source": [
    "\n",
    "<h1>Import packages</h1>"
   ]
  },
  {
   "cell_type": "code",
   "execution_count": 1,
   "metadata": {
    "executionInfo": {
     "elapsed": 1092,
     "status": "ok",
     "timestamp": 1605525450268,
     "user": {
      "displayName": "Jinhyeok Jang",
      "photoUrl": "https://lh3.googleusercontent.com/a-/AOh14GgEcjZGr9nfbTQ1dLjaTvhrUf9gEpVuk8-H0jSEyQ=s64",
      "userId": "09237695505318520056"
     },
     "user_tz": -540
    },
    "id": "fJDFAe96av6X"
   },
   "outputs": [
    {
     "name": "stdout",
     "output_type": "stream",
     "text": [
      "CUDA is available!\n"
     ]
    }
   ],
   "source": [
    "import torch\n",
    "from torch.autograd import Variable\n",
    "import torch.nn.functional as F\n",
    "from torch.utils.data import Dataset\n",
    "from torch.utils.data import DataLoader\n",
    "from torchvision import transforms\n",
    "from torch import nn\n",
    " \n",
    "import pandas as pd\n",
    " \n",
    "import matplotlib.pyplot as plt\n",
    "%matplotlib inline\n",
    " \n",
    "import numpy as np\n",
    " \n",
    "from tqdm import tqdm \n",
    "import time\n",
    "\n",
    "from IPython.display import clear_output\n",
    " \n",
    "use_cuda = True\n",
    "if torch.cuda.is_available():\n",
    "    print(\"CUDA is available!\")\n",
    "    device = torch.device(\"cuda\")"
   ]
  },
  {
   "cell_type": "markdown",
   "metadata": {
    "id": "gvkDJcculCpg"
   },
   "source": [
    "<h1>Data organization</h1>"
   ]
  },
  {
   "cell_type": "code",
   "execution_count": 2,
   "metadata": {
    "executionInfo": {
     "elapsed": 1743,
     "status": "ok",
     "timestamp": 1605525450934,
     "user": {
      "displayName": "Jinhyeok Jang",
      "photoUrl": "https://lh3.googleusercontent.com/a-/AOh14GgEcjZGr9nfbTQ1dLjaTvhrUf9gEpVuk8-H0jSEyQ=s64",
      "userId": "09237695505318520056"
     },
     "user_tz": -540
    },
    "id": "wN5ZGmzl482V"
   },
   "outputs": [],
   "source": [
    "class GenDataset(Dataset):\n",
    " \n",
    "  def __init__(self, X, transform=None):\n",
    "      self.X = X.float()\n",
    "      self.data = X[:-1,:].float()\n",
    "      self.target = X[1:,:-1].float()\n",
    "      \n",
    "  def __getitem__(self, index):\n",
    "      x = self.data[index]\n",
    "      y = self.target[index]\n",
    "      return x, y\n",
    " \n",
    "  def __len__(self):\n",
    "      return len(self.data)\n",
    " \n",
    "  def seq_data_gen(self, seq_size, input_dim, output_dim):\n",
    "      Data = self.data.view(-1, seq_size, input_dim)\n",
    "      Target = self.target.view(-1, seq_size, output_dim)\n",
    "      data_seq = []\n",
    "      target_seq = []\n",
    "      for seq in range(seq_size):\n",
    "        data_seq.append(Data[:,seq,:].tolist())\n",
    "        target_seq.append(Target[:,seq,:].tolist())\n",
    "      data_seq = torch.tensor(data_seq)\n",
    "      target_seq = torch.tensor(target_seq)\n",
    "\n",
    "      self.data = (data_seq[:,:,:]).float()\n",
    "      self.target = (target_seq[:,:,:]).float() \n",
    "      return "
   ]
  },
  {
   "cell_type": "code",
   "execution_count": 3,
   "metadata": {
    "colab": {
     "base_uri": "https://localhost:8080/",
     "height": 310
    },
    "executionInfo": {
     "elapsed": 10485,
     "status": "ok",
     "timestamp": 1605525459690,
     "user": {
      "displayName": "Jinhyeok Jang",
      "photoUrl": "https://lh3.googleusercontent.com/a-/AOh14GgEcjZGr9nfbTQ1dLjaTvhrUf9gEpVuk8-H0jSEyQ=s64",
      "userId": "09237695505318520056"
     },
     "user_tz": -540
    },
    "id": "gaJ8SP1e62ob",
    "outputId": "a2de92a2-9b08-444f-83e6-337f0d91d5a0"
   },
   "outputs": [
    {
     "name": "stdout",
     "output_type": "stream",
     "text": [
      "torch.Size([1000000, 61])\n"
     ]
    },
    {
     "data": {
      "text/html": [
       "<div>\n",
       "<style scoped>\n",
       "    .dataframe tbody tr th:only-of-type {\n",
       "        vertical-align: middle;\n",
       "    }\n",
       "\n",
       "    .dataframe tbody tr th {\n",
       "        vertical-align: top;\n",
       "    }\n",
       "\n",
       "    .dataframe thead th {\n",
       "        text-align: right;\n",
       "    }\n",
       "</style>\n",
       "<table border=\"1\" class=\"dataframe\">\n",
       "  <thead>\n",
       "    <tr style=\"text-align: right;\">\n",
       "      <th></th>\n",
       "      <th>baseX</th>\n",
       "      <th>baseY</th>\n",
       "      <th>baseZ</th>\n",
       "      <th>baseR</th>\n",
       "      <th>baseP</th>\n",
       "      <th>baseYaw</th>\n",
       "      <th>base_dX</th>\n",
       "      <th>base_dY</th>\n",
       "      <th>base_dZ</th>\n",
       "      <th>base_dR</th>\n",
       "      <th>...</th>\n",
       "      <th>F_RFx</th>\n",
       "      <th>F_RFy</th>\n",
       "      <th>F_RFz</th>\n",
       "      <th>F_LHx</th>\n",
       "      <th>F_LHy</th>\n",
       "      <th>F_LHz</th>\n",
       "      <th>F_RHx</th>\n",
       "      <th>F_RHy</th>\n",
       "      <th>F_RHz</th>\n",
       "      <th>User_Command</th>\n",
       "    </tr>\n",
       "  </thead>\n",
       "  <tbody>\n",
       "    <tr>\n",
       "      <th>0</th>\n",
       "      <td>0.165470</td>\n",
       "      <td>-0.030597</td>\n",
       "      <td>0.000000</td>\n",
       "      <td>-4.457770e-32</td>\n",
       "      <td>1.230840e-29</td>\n",
       "      <td>-0.337382</td>\n",
       "      <td>0.085825</td>\n",
       "      <td>-0.000012</td>\n",
       "      <td>-1.160790e-40</td>\n",
       "      <td>-9.426360e-25</td>\n",
       "      <td>...</td>\n",
       "      <td>0.0</td>\n",
       "      <td>0.0</td>\n",
       "      <td>0.0</td>\n",
       "      <td>0.0</td>\n",
       "      <td>0.0</td>\n",
       "      <td>0.0</td>\n",
       "      <td>0.00000</td>\n",
       "      <td>0.000000</td>\n",
       "      <td>0.000000</td>\n",
       "      <td>2</td>\n",
       "    </tr>\n",
       "    <tr>\n",
       "      <th>1</th>\n",
       "      <td>0.164821</td>\n",
       "      <td>-0.030364</td>\n",
       "      <td>0.197868</td>\n",
       "      <td>4.435760e-31</td>\n",
       "      <td>6.648530e-31</td>\n",
       "      <td>-0.350630</td>\n",
       "      <td>0.081774</td>\n",
       "      <td>0.000018</td>\n",
       "      <td>6.266060e-40</td>\n",
       "      <td>-2.336580e-24</td>\n",
       "      <td>...</td>\n",
       "      <td>0.0</td>\n",
       "      <td>0.0</td>\n",
       "      <td>0.0</td>\n",
       "      <td>0.0</td>\n",
       "      <td>0.0</td>\n",
       "      <td>0.0</td>\n",
       "      <td>3.92443</td>\n",
       "      <td>0.364490</td>\n",
       "      <td>3.520490</td>\n",
       "      <td>1</td>\n",
       "    </tr>\n",
       "    <tr>\n",
       "      <th>2</th>\n",
       "      <td>0.166363</td>\n",
       "      <td>-0.030927</td>\n",
       "      <td>0.198680</td>\n",
       "      <td>-7.398910e-29</td>\n",
       "      <td>9.512760e-32</td>\n",
       "      <td>-0.357277</td>\n",
       "      <td>0.082402</td>\n",
       "      <td>0.000031</td>\n",
       "      <td>-3.655930e-42</td>\n",
       "      <td>-1.108920e-26</td>\n",
       "      <td>...</td>\n",
       "      <td>0.0</td>\n",
       "      <td>0.0</td>\n",
       "      <td>0.0</td>\n",
       "      <td>0.0</td>\n",
       "      <td>0.0</td>\n",
       "      <td>0.0</td>\n",
       "      <td>5.26747</td>\n",
       "      <td>-1.087230</td>\n",
       "      <td>0.291623</td>\n",
       "      <td>2</td>\n",
       "    </tr>\n",
       "    <tr>\n",
       "      <th>3</th>\n",
       "      <td>0.164772</td>\n",
       "      <td>-0.030398</td>\n",
       "      <td>0.198680</td>\n",
       "      <td>2.833890e-31</td>\n",
       "      <td>-2.550100e-31</td>\n",
       "      <td>-0.355885</td>\n",
       "      <td>0.076528</td>\n",
       "      <td>0.000046</td>\n",
       "      <td>-3.563210e-40</td>\n",
       "      <td>3.085160e-24</td>\n",
       "      <td>...</td>\n",
       "      <td>0.0</td>\n",
       "      <td>0.0</td>\n",
       "      <td>0.0</td>\n",
       "      <td>0.0</td>\n",
       "      <td>0.0</td>\n",
       "      <td>0.0</td>\n",
       "      <td>1.52733</td>\n",
       "      <td>0.929029</td>\n",
       "      <td>0.403044</td>\n",
       "      <td>7</td>\n",
       "    </tr>\n",
       "    <tr>\n",
       "      <th>4</th>\n",
       "      <td>0.166212</td>\n",
       "      <td>-0.030933</td>\n",
       "      <td>0.198257</td>\n",
       "      <td>3.752780e-29</td>\n",
       "      <td>1.878040e-29</td>\n",
       "      <td>-0.352248</td>\n",
       "      <td>0.077096</td>\n",
       "      <td>0.000059</td>\n",
       "      <td>-1.526810e-40</td>\n",
       "      <td>5.624450e-27</td>\n",
       "      <td>...</td>\n",
       "      <td>0.0</td>\n",
       "      <td>0.0</td>\n",
       "      <td>0.0</td>\n",
       "      <td>0.0</td>\n",
       "      <td>0.0</td>\n",
       "      <td>0.0</td>\n",
       "      <td>-0.00071</td>\n",
       "      <td>0.080719</td>\n",
       "      <td>0.234640</td>\n",
       "      <td>3</td>\n",
       "    </tr>\n",
       "  </tbody>\n",
       "</table>\n",
       "<p>5 rows × 61 columns</p>\n",
       "</div>"
      ],
      "text/plain": [
       "      baseX     baseY     baseZ         baseR         baseP   baseYaw  \\\n",
       "0  0.165470 -0.030597  0.000000 -4.457770e-32  1.230840e-29 -0.337382   \n",
       "1  0.164821 -0.030364  0.197868  4.435760e-31  6.648530e-31 -0.350630   \n",
       "2  0.166363 -0.030927  0.198680 -7.398910e-29  9.512760e-32 -0.357277   \n",
       "3  0.164772 -0.030398  0.198680  2.833890e-31 -2.550100e-31 -0.355885   \n",
       "4  0.166212 -0.030933  0.198257  3.752780e-29  1.878040e-29 -0.352248   \n",
       "\n",
       "    base_dX   base_dY       base_dZ       base_dR  ...  F_RFx  F_RFy  F_RFz  \\\n",
       "0  0.085825 -0.000012 -1.160790e-40 -9.426360e-25  ...    0.0    0.0    0.0   \n",
       "1  0.081774  0.000018  6.266060e-40 -2.336580e-24  ...    0.0    0.0    0.0   \n",
       "2  0.082402  0.000031 -3.655930e-42 -1.108920e-26  ...    0.0    0.0    0.0   \n",
       "3  0.076528  0.000046 -3.563210e-40  3.085160e-24  ...    0.0    0.0    0.0   \n",
       "4  0.077096  0.000059 -1.526810e-40  5.624450e-27  ...    0.0    0.0    0.0   \n",
       "\n",
       "   F_LHx  F_LHy  F_LHz    F_RHx     F_RHy     F_RHz  User_Command  \n",
       "0    0.0    0.0    0.0  0.00000  0.000000  0.000000             2  \n",
       "1    0.0    0.0    0.0  3.92443  0.364490  3.520490             1  \n",
       "2    0.0    0.0    0.0  5.26747 -1.087230  0.291623             2  \n",
       "3    0.0    0.0    0.0  1.52733  0.929029  0.403044             7  \n",
       "4    0.0    0.0    0.0 -0.00071  0.080719  0.234640             3  \n",
       "\n",
       "[5 rows x 61 columns]"
      ]
     },
     "execution_count": 3,
     "metadata": {},
     "output_type": "execute_result"
    }
   ],
   "source": [
    "# Load dataset\n",
    "data=pd.read_csv('../../data/csv/Quadruped_data_100.txt')\n",
    "data=data.drop(\"Num\",axis=1)\n",
    "Quad_data = torch.tensor(data.values)\n",
    "Quad_data = Quad_data[:-1,:]\n",
    "# Quad_data = torch.cat([Quad_data[:,:].view(-1,62), Quad_data[-1,:].view(-1,62)],dim=0)\n",
    "print(np.shape(Quad_data))\n",
    "data.head()"
   ]
  },
  {
   "cell_type": "code",
   "execution_count": 4,
   "metadata": {
    "executionInfo": {
     "elapsed": 10990,
     "status": "ok",
     "timestamp": 1605525460209,
     "user": {
      "displayName": "Jinhyeok Jang",
      "photoUrl": "https://lh3.googleusercontent.com/a-/AOh14GgEcjZGr9nfbTQ1dLjaTvhrUf9gEpVuk8-H0jSEyQ=s64",
      "userId": "09237695505318520056"
     },
     "user_tz": -540
    },
    "id": "ftqRTFrbsHep"
   },
   "outputs": [],
   "source": [
    "# Data organizing\n",
    "NUM_val=5000\n",
    "input_dim = 61\n",
    "output_dim = 60\n",
    "\n",
    "tr_data = Quad_data[0:len(Quad_data)-NUM_val,:]\n",
    "val_data= Quad_data[len(Quad_data)-NUM_val:,:]\n",
    "\n",
    "# Generate input and target\n",
    "tr_data = torch.cat([tr_data[:,:].view(-1,input_dim), tr_data[-1,:].view(-1,input_dim)],dim=0)\n",
    "Tr_dataset = GenDataset(tr_data)\n",
    "Xtr=Tr_dataset.data\n",
    "Ytr=Tr_dataset.target\n",
    "\n",
    "val_data = torch.cat([val_data[:,:].view(-1,input_dim), val_data[-1,:].view(-1,input_dim)],dim=0)\n",
    "Val_dataset = GenDataset(val_data)\n",
    "Xval=Val_dataset.data\n",
    "Yval=Val_dataset.target\n"
   ]
  },
  {
   "cell_type": "code",
   "execution_count": 5,
   "metadata": {
    "executionInfo": {
     "elapsed": 33986,
     "status": "ok",
     "timestamp": 1605525483215,
     "user": {
      "displayName": "Jinhyeok Jang",
      "photoUrl": "https://lh3.googleusercontent.com/a-/AOh14GgEcjZGr9nfbTQ1dLjaTvhrUf9gEpVuk8-H0jSEyQ=s64",
      "userId": "09237695505318520056"
     },
     "user_tz": -540
    },
    "id": "KuEO_eiE4nOw"
   },
   "outputs": [
    {
     "name": "stdout",
     "output_type": "stream",
     "text": [
      "Seqeuntial data generated!\n"
     ]
    }
   ],
   "source": [
    "seq_size=50 #약 1초\n",
    "\n",
    "Tr_dataset.seq_data_gen(seq_size, input_dim, output_dim)\n",
    "Xtr_LSTM=Tr_dataset.data\n",
    "Ytr_LSTM=Tr_dataset.target\n",
    "\n",
    "Val_dataset.seq_data_gen(seq_size, input_dim, output_dim)\n",
    "Xval_LSTM=Val_dataset.data\n",
    "Yval_LSTM=Val_dataset.target\n",
    "\n",
    "print(\"Seqeuntial data generated!\")\n"
   ]
  },
  {
   "cell_type": "code",
   "execution_count": 6,
   "metadata": {
    "colab": {
     "base_uri": "https://localhost:8080/"
    },
    "executionInfo": {
     "elapsed": 33979,
     "status": "ok",
     "timestamp": 1605525483218,
     "user": {
      "displayName": "Jinhyeok Jang",
      "photoUrl": "https://lh3.googleusercontent.com/a-/AOh14GgEcjZGr9nfbTQ1dLjaTvhrUf9gEpVuk8-H0jSEyQ=s64",
      "userId": "09237695505318520056"
     },
     "user_tz": -540
    },
    "id": "F5IfcJWROKR8",
    "outputId": "82da7315-da12-41a6-f6e4-e03b0b4a39eb"
   },
   "outputs": [
    {
     "name": "stdout",
     "output_type": "stream",
     "text": [
      "Xtr      :  torch.Size([995000, 61])\n",
      "Xval     :  torch.Size([5000, 61])\n",
      "Xtr_LSTM :  torch.Size([50, 19900, 61])\n",
      "Xval_LSTM:  torch.Size([50, 100, 61])\n",
      "\n",
      "\n",
      "Ytr      :  torch.Size([995000, 60])\n",
      "Yval     :  torch.Size([5000, 60])\n",
      "Ytr_LSTM :  torch.Size([50, 19900, 60])\n",
      "Yval_LSTM:  torch.Size([50, 100, 60])\n"
     ]
    }
   ],
   "source": [
    "# Upload data on GPU\n",
    "# Xtr=Xtr.to(device)\n",
    "# Xtr_LSTM=Xtr_LSTM.to(device)\n",
    "# Xval=Xval.to(device)\n",
    "# Xval_LSTM=Xval_LSTM.to(device)\n",
    "print('Xtr      : ',np.shape(Xtr))\n",
    "print('Xval     : ',np.shape(Xval))\n",
    "print('Xtr_LSTM : ',np.shape(Xtr_LSTM))\n",
    "print('Xval_LSTM: ',np.shape(Xval_LSTM))\n",
    "print('\\n')\n",
    "# Ytr=Ytr.to(device)\n",
    "# Ytr_LSTM=Ytr_LSTM.to(device)\n",
    "# Yval=Yval.to(device)\n",
    "# Yval_LSTM=Yval_LSTM.to(device)\n",
    "print('Ytr      : ',np.shape(Ytr))\n",
    "print('Yval     : ',np.shape(Yval))\n",
    "print('Ytr_LSTM : ',np.shape(Ytr_LSTM))\n",
    "print('Yval_LSTM: ',np.shape(Yval_LSTM))"
   ]
  },
  {
   "cell_type": "markdown",
   "metadata": {
    "id": "Y6MJCopKk8Xt"
   },
   "source": [
    "<h1>Network definition</h1>"
   ]
  },
  {
   "cell_type": "code",
   "execution_count": 10,
   "metadata": {
    "executionInfo": {
     "elapsed": 33966,
     "status": "ok",
     "timestamp": 1605525483218,
     "user": {
      "displayName": "Jinhyeok Jang",
      "photoUrl": "https://lh3.googleusercontent.com/a-/AOh14GgEcjZGr9nfbTQ1dLjaTvhrUf9gEpVuk8-H0jSEyQ=s64",
      "userId": "09237695505318520056"
     },
     "user_tz": -540
    },
    "id": "BCAwrB6JSz_2"
   },
   "outputs": [],
   "source": [
    "class LSTMout(nn.Module):\n",
    "    def forward(self, X):\n",
    "        out_, _ = X\n",
    "        return out_\n",
    "\n",
    "class DeepQMP(nn.Module): # torch.nn.Module을 상속받는 파이썬 클래스\n",
    "    def __init__(self, input_dim, hidden_dim, output_dim): \n",
    "        super(DeepQMP, self).__init__() \n",
    "\n",
    "        # LSTM\n",
    "        self.lstm1 = nn.LSTM(input_dim,     hidden_dim[0], bias=True)   \n",
    "        self.lstm2 = nn.LSTM(hidden_dim[0], hidden_dim[1], bias=True) \n",
    "        dslayer1 = 64\n",
    "        dslayer2 = 64\n",
    "        self.myLSTM_mlp = nn.Sequential(\n",
    "          nn.Linear(hidden_dim[1],  dslayer1, bias=True),   nn.ReLU(),\n",
    "          nn.Linear(dslayer1,       dslayer2, bias=True),   nn.ReLU(),\n",
    "          nn.Linear(dslayer2,       output_dim, bias=True), nn.ReLU()\n",
    "        )\n",
    "\n",
    "        # MLP\n",
    "        nnlayer1 = 64\n",
    "        nnlayer2 = 64\n",
    "        self.myMLP = nn.Sequential(  \n",
    "          nn.Linear(input_dim,  nnlayer1, bias=True),   nn.ReLU(),\n",
    "          nn.Linear(nnlayer1,   nnlayer2, bias=True),   nn.ReLU(),\n",
    "          nn.Linear(nnlayer2,   output_dim, bias=True), nn.ReLU()\n",
    "        )\n",
    "\n",
    "        # Weighted SUM\n",
    "        self.End = nn.Linear(in_features=output_dim*2, out_features=output_dim, bias=False)  \n",
    "      \n",
    "    # def forward(self, X):\n",
    "    def forward(self, X, HnC1, HnC2):\n",
    "        # X : data, HnC : Hiddne and Cell state\n",
    "        # LSTM\n",
    "        lstm_out1, _ = self.lstm1(X, HnC1)\n",
    "        lstm_out2, _ = self.lstm2(lstm_out1, HnC2)\n",
    "        LSTMoutput = self.myLSTM_mlp(lstm_out2[-1])\n",
    "\n",
    "        # MLP\n",
    "        mlp_X = torch.cat([X[-1,:,0].view(-1,1), X[-1,:,1].view(-1,1)],dim=1)\n",
    "        for inx in range(input_dim-2):\n",
    "              mlp_X = torch.cat([mlp_X[:,0:inx+2], X[-1,:,inx+1].view(-1,1)],dim=1)\n",
    "\n",
    "        NNoutput = self.myMLP(mlp_X)\n",
    "\n",
    "        output_ = self.End(torch.cat([NNoutput.view(-1,output_dim), LSTMoutput.view(-1,output_dim)],dim=1))\n",
    "\n",
    "        return output_\n",
    "      \n",
    "  "
   ]
  },
  {
   "cell_type": "markdown",
   "metadata": {
    "id": "KgM77Z9alOMx"
   },
   "source": [
    "<h1>Training sequence</h1>"
   ]
  },
  {
   "cell_type": "code",
   "execution_count": 11,
   "metadata": {
    "executionInfo": {
     "elapsed": 1112,
     "status": "ok",
     "timestamp": 1605525741070,
     "user": {
      "displayName": "Jinhyeok Jang",
      "photoUrl": "https://lh3.googleusercontent.com/a-/AOh14GgEcjZGr9nfbTQ1dLjaTvhrUf9gEpVuk8-H0jSEyQ=s64",
      "userId": "09237695505318520056"
     },
     "user_tz": -540
    },
    "id": "KZZA4QAc7ErJ"
   },
   "outputs": [],
   "source": [
    "# Network model\n",
    "# model = Net();\n",
    "hidden_dim=[64,64]\n",
    "model = DeepQMP(input_dim, hidden_dim, output_dim); # (input dimension=7, hidden1 state dimension=1, hidden2 state dimension=1, output dimension=8)\n",
    "# model = model.to(device)\n",
    "# if device == 'cuda':\n",
    "#     model = torch.nn.DataParallel(model)\n",
    "#     cudnn.benchmark = True\n",
    "# loss and optimizer\n",
    "L1_loss = nn.L1Loss()\n",
    "L2_loss = nn.MSELoss()\n",
    "Huber_loss = nn.SmoothL1Loss()\n",
    "# optimizer = torch.optim.SGD(params=model.parameters(), lr=0.00001, momentum=0.9, weight_decay =0.0001)\n",
    "optimizer = torch.optim.Adam(params=model.parameters(), lr=0.002)\n",
    "scheduler = torch.optim.lr_scheduler.ReduceLROnPlateau(optimizer, factor=0.8, patience= 10,mode='min')"
   ]
  },
  {
   "cell_type": "code",
   "execution_count": 12,
   "metadata": {
    "executionInfo": {
     "elapsed": 1085,
     "status": "ok",
     "timestamp": 1605525689593,
     "user": {
      "displayName": "Jinhyeok Jang",
      "photoUrl": "https://lh3.googleusercontent.com/a-/AOh14GgEcjZGr9nfbTQ1dLjaTvhrUf9gEpVuk8-H0jSEyQ=s64",
      "userId": "09237695505318520056"
     },
     "user_tz": -540
    },
    "id": "Qiaucdngr4zm"
   },
   "outputs": [],
   "source": [
    "def L1_regularization(model):\n",
    "    regularization_loss=0\n",
    "    for param in model.parameters():\n",
    "        regularization_loss += torch.sum(torch.abs(param))\n",
    "\n",
    "    return regularization_loss\n",
    " \n",
    "def L2_regularization(model):\n",
    "    regularization_loss=0\n",
    "    for param in model.parameters():\n",
    "        regularization_loss += param.norm(2)**2\n",
    "\n",
    "    return regularization_loss\n",
    "\n",
    "def Loss(hypo, X, Y):\n",
    "    # Clear display\n",
    "    clear_output(wait=True)\n",
    "\n",
    "    # alpha=0.01\n",
    "    # lambdaExp = 1\n",
    "    # lambdaRatio = 0.001\n",
    "    # lambdaIN = 0.0005;\n",
    "    # lambdaReg = 0.0001\n",
    "    alpha=0.0001\n",
    "    lambdaExp = 10\n",
    "    lambdaRatio = 0.001\n",
    "    lambdaIN = 1;\n",
    "    lambdaReg = 0.1\n",
    "\n",
    "    Lexp = L2_loss(input=hypo, target=Y)\n",
    "    Lin = L2_loss(input=hypo, target=X[:,:-1])\n",
    "    Lreg = L2_regularization(model)\n",
    "\n",
    "    return lambdaExp*Lexp + lambdaRatio*Lexp/(alpha+lambdaIN*Lin) + lambdaReg*Lreg\n",
    "    #   return Lexp\n",
    "#     return lambdaExp*Lexp + lambdaIN/(alpha+Lin) + lambdaReg*Lreg"
   ]
  },
  {
   "cell_type": "code",
   "execution_count": 13,
   "metadata": {
    "colab": {
     "base_uri": "https://localhost:8080/",
     "height": 573
    },
    "id": "1dYqBp3umUfl",
    "outputId": "7cda1b62-1579-4b38-c3f2-609269ecbce6"
   },
   "outputs": [
    {
     "data": {
      "image/png": "[encoded data removed]",
      "text/plain": [
       "<Figure size 432x288 with 1 Axes>"
      ]
     },
     "metadata": {
      "needs_background": "light"
     },
     "output_type": "display_data"
    },
    {
     "data": {
      "image/png": "[encoded data removed]",
      "text/plain": [
       "<Figure size 432x288 with 1 Axes>"
      ]
     },
     "metadata": {
      "needs_background": "light"
     },
     "output_type": "display_data"
    },
    {
     "name": "stderr",
     "output_type": "stream",
     "text": [
      "100%|██████████| 1000/1000 [14:57<00:00,  1.11it/s]"
     ]
    },
    {
     "name": "stdout",
     "output_type": "stream",
     "text": [
      "Final loss :  24.189205169677734\n"
     ]
    },
    {
     "name": "stderr",
     "output_type": "stream",
     "text": [
      "\n"
     ]
    },
    {
     "data": {
      "image/png": "[encoded data removed]",
      "text/plain": [
       "<Figure size 432x288 with 1 Axes>"
      ]
     },
     "metadata": {
      "needs_background": "light"
     },
     "output_type": "display_data"
    }
   ],
   "source": [
    "# Learn\n",
    "model.train()\n",
    "epoch = 1000\n",
    "batch=1000\n",
    "batch_val=int(NUM_val/seq_size)\n",
    "THRESH=0.001\n",
    " \n",
    "hypothesis=[]\n",
    "prediction=[]\n",
    "\n",
    "train_loss=[]\n",
    "validation_loss=[]\n",
    "validation_step=[]\n",
    "\n",
    "trloss=0\n",
    "valloss=0\n",
    "\n",
    "SRT=0;END=SRT+batch;\n",
    "\n",
    "# Initialize H(X)\n",
    "hidden1 = torch.zeros(1, batch, hidden_dim[0], requires_grad=True)#.to(device)\n",
    "cell1 = torch.zeros(1, batch, hidden_dim[0], requires_grad=True)#.to(device)\n",
    "hidden2 = torch.zeros(1, batch, hidden_dim[1], requires_grad=True)#.to(device)\n",
    "cell2 = torch.zeros(1, batch, hidden_dim[1], requires_grad=True)#.to(device)\n",
    "\n",
    "for step in tqdm(range(epoch), position=0, leave=True):\n",
    "    # Sample among Training data\n",
    "    Xo = Xtr[seq_size-1::seq_size,:]#.to(device)\n",
    "    Yo = Ytr[seq_size-1::seq_size,:]#.to(device)\n",
    "    hypothesis = model(Xtr_LSTM[:,SRT:END,:], (hidden1, cell1), (hidden2, cell2))\n",
    "    trloss = Loss(hypothesis,Xo[SRT:END,:],Yo[SRT:END,:])\n",
    "    # Optimize\n",
    "    optimizer.zero_grad()\n",
    "    trloss.backward()\n",
    "    optimizer.step()\n",
    "    scheduler.step(trloss)\n",
    "    # Save train loss\n",
    "    train_loss.append(trloss.data)\n",
    "\n",
    "    # Validation\n",
    "    if step%10 == 0:\n",
    "        hidden_val1 = torch.zeros(1, batch_val, hidden_dim[0], requires_grad=False)#.to(device)\n",
    "        cell_val1 = torch.zeros(1, batch_val, hidden_dim[0], requires_grad=False)#.to(device)\n",
    "        hidden_val2 = torch.zeros(1, batch_val, hidden_dim[1], requires_grad=False)#.to(device)\n",
    "        cell_val2 = torch.zeros(1, batch_val, hidden_dim[1], requires_grad=False)#.to(device)\n",
    "        Xo = Xval[seq_size-1::seq_size,:]#.to(device)\n",
    "        Yo = Yval[seq_size-1::seq_size,:]#.to(device)\n",
    "        \n",
    "        hypothesis_ = model(Xval_LSTM, (hidden_val1, cell_val1), (hidden_val2, cell_val2))\n",
    "        valloss = Loss(hypothesis_,Xo[:,:],Yo)\n",
    "        validation_step.append(step)\n",
    "        validation_loss.append(valloss.data)\n",
    "  \n",
    "    # # Sequences    \n",
    "    num_sam = 100\n",
    "    plt.title(\"First \"+str(num_sam)+\" samples\")\n",
    "    plt.scatter(Xtr_LSTM[-1,SRT:SRT+num_sam,0].cpu(), Xtr_LSTM[-1,SRT:SRT+num_sam,1].cpu(),s=100.0, c='y', edgecolors='black', label='Start')\n",
    "    plt.scatter(Ytr_LSTM[-1,SRT:SRT+num_sam,0].cpu(), Ytr_LSTM[-1,SRT:SRT+num_sam,1].cpu(),s=60.0 , c='r', edgecolors='black', label='Goal')\n",
    "    plt.scatter(hypothesis[0:num_sam,0].cpu().detach().numpy(), hypothesis[0:num_sam,1].cpu().detach().numpy(),s=30.0 , c='c', alpha=0.8, label='Predict')\n",
    "    plt.legend(fontsize='x-large')\n",
    "    plt.savefig('./graph/Single_output.png',dpi=100)\n",
    "    plt.show()\n",
    "\n",
    "    # Plot and Save losses\n",
    "    plt.title(\"Train loss : \"+str(trloss.cpu().detach().numpy())+\"\\nValidation loss : \"+str(valloss.cpu().detach().numpy()))\n",
    "    loss1=plt.plot(train_loss, color='b', label='Train loss')\n",
    "    loss2=plt.plot(validation_step, validation_loss , color='r', label='Validation loss')\n",
    "    plt.xlabel(\"Steps\")\n",
    "    plt.ylabel(\"Losses\")\n",
    "    plt.legend()\n",
    "    plt.savefig('./graph/LearningLoss.png',dpi=100)\n",
    "    plt.show()\n",
    "    # plt.clf()\n",
    "    \n",
    "     \n",
    "    # Save checkpoint\n",
    "    torch.save({'model_state_dict': model.state_dict(),\n",
    "                'optimizer_state_dict': optimizer.state_dict(),\n",
    "                'loss': trloss},\n",
    "                \"./model/DeepQMP.tar\", pickle_protocol = 4)\n",
    "                \n",
    "    SRT=END\n",
    "    if SRT+batch>=len(Xtr[seq_size-1::seq_size]):\n",
    "        SRT=0\n",
    "    \n",
    "    END=SRT+batch;\n",
    "    if END>=len(Xtr[seq_size-1::seq_size]):\n",
    "        END=len(Xtr[seq_size-1::seq_size])\n",
    "        \n",
    "    if (trloss.data > 0.0) and (trloss.data < THRESH) and abs((valloss.detach().numpy() - trloss.detach().numpy()) < 1.0):\n",
    "        break;\n",
    " \n",
    "print(\"Final loss : \",trloss.data.item())\n",
    "t=time.localtime(time.time())\n",
    "plt.title(\"Train loss : \"+str(trloss.cpu().detach().numpy()))\n",
    "plt.plot(train_loss)\n",
    "plt.savefig('./graph/LearningLoss_'+str(t.tm_year)+str(t.tm_mon)+str(t.tm_mday)+str(t.tm_hour)+str(t.tm_min)+'.png',dpi=100)\n",
    "# plt.show()\n",
    " \n",
    "# Save model & parameters\n",
    "torch.save({'model_state_dict': model.state_dict(),\n",
    "            'optimizer_state_dict': optimizer.state_dict(),\n",
    "            'loss': trloss},\n",
    "            \"./model/DeepQMP\"+str(t.tm_year)+str(t.tm_mon)+str(t.tm_mday)+str(t.tm_hour)+str(t.tm_min)+\".tar\", pickle_protocol = 4)"
   ]
  },
  {
   "cell_type": "code",
   "execution_count": null,
   "metadata": {},
   "outputs": [],
   "source": [
    "hidden1 = torch.zeros(1, 19900, hidden_dim[0], requires_grad=True)#.to(device)\n",
    "cell1 = torch.zeros(1, 19900, hidden_dim[0], requires_grad=True)#.to(device)\n",
    "hidden2 = torch.zeros(1, 19900, hidden_dim[1], requires_grad=True)#.to(device)\n",
    "cell2 = torch.zeros(1, 19900, hidden_dim[1], requires_grad=True)#.to(device)\n",
    "\n",
    "Xo = Xtr[seq_size-1::seq_size,:]#.to(device)\n",
    "Yo = Ytr[seq_size-1::seq_size,:]#.to(device)\n",
    "hypothesis = model(Xtr_LSTM, (hidden1, cell1), (hidden2, cell2))\n",
    "XYdist = torch.norm(hypothesis_[:,0:2]-Yo[:,0:2], 1)\n",
    "print(XYdist)"
   ]
  },
  {
   "cell_type": "code",
   "execution_count": 6,
   "metadata": {},
   "outputs": [
    {
     "name": "stdout",
     "output_type": "stream",
     "text": [
      "[3, 6, 9]\n"
     ]
    }
   ],
   "source": [
    "a=[1,2,3,4,5,6,7,8,9]\n",
    "s=3\n",
    "print(a[s-1::s])"
   ]
  },
  {
   "cell_type": "markdown",
   "metadata": {
    "id": "JTm2MYpSlfQi"
   },
   "source": [
    "<h1>Total test</h1>"
   ]
  },
  {
   "cell_type": "code",
   "execution_count": 7,
   "metadata": {
    "executionInfo": {
     "elapsed": 60252,
     "status": "aborted",
     "timestamp": 1605525509546,
     "user": {
      "displayName": "Jinhyeok Jang",
      "photoUrl": "https://lh3.googleusercontent.com/a-/AOh14GgEcjZGr9nfbTQ1dLjaTvhrUf9gEpVuk8-H0jSEyQ=s64",
      "userId": "09237695505318520056"
     },
     "user_tz": -540
    },
    "id": "GQk5KG3Oc_0o"
   },
   "outputs": [
    {
     "ename": "NameError",
     "evalue": "name 'LSTMsNN' is not defined",
     "output_type": "error",
     "traceback": [
      "\u001b[0;31m---------------------------------------------------------------------------\u001b[0m",
      "\u001b[0;31mNameError\u001b[0m                                 Traceback (most recent call last)",
      "\u001b[0;32m<ipython-input-7-3cedd6b995f9>\u001b[0m in \u001b[0;36m<module>\u001b[0;34m\u001b[0m\n\u001b[1;32m      1\u001b[0m \u001b[0;31m# Eval\u001b[0m\u001b[0;34m\u001b[0m\u001b[0;34m\u001b[0m\u001b[0;34m\u001b[0m\u001b[0m\n\u001b[1;32m      2\u001b[0m \u001b[0;32mimport\u001b[0m \u001b[0mcopy\u001b[0m\u001b[0;34m\u001b[0m\u001b[0;34m\u001b[0m\u001b[0m\n\u001b[0;32m----> 3\u001b[0;31m \u001b[0mmodel\u001b[0m \u001b[0;34m=\u001b[0m \u001b[0mLSTMsNN\u001b[0m\u001b[0;34m(\u001b[0m\u001b[0minput_dim\u001b[0m\u001b[0;34m,\u001b[0m \u001b[0mhidden_dim\u001b[0m\u001b[0;34m,\u001b[0m \u001b[0moutput_dim\u001b[0m\u001b[0;34m)\u001b[0m\u001b[0;34m;\u001b[0m\u001b[0;34m\u001b[0m\u001b[0;34m\u001b[0m\u001b[0m\n\u001b[0m\u001b[1;32m      4\u001b[0m \u001b[0;31m# model = model.to(device)\u001b[0m\u001b[0;34m\u001b[0m\u001b[0;34m\u001b[0m\u001b[0;34m\u001b[0m\u001b[0m\n\u001b[1;32m      5\u001b[0m \u001b[0;31m# if device == 'cuda':\u001b[0m\u001b[0;34m\u001b[0m\u001b[0;34m\u001b[0m\u001b[0;34m\u001b[0m\u001b[0m\n",
      "\u001b[0;31mNameError\u001b[0m: name 'LSTMsNN' is not defined"
     ]
    }
   ],
   "source": [
    "# Eval\n",
    "import copy\n",
    "model = DeepQMP(input_dim, hidden_dim, output_dim);\n",
    "# model = model.to(device)\n",
    "# if device == 'cuda':\n",
    "#     model = torch.nn.DataParallel(model)\n",
    "#     cudnn.benchmark = True\n",
    "params = torch.load(\"./model/DeepQMP.tar\", map_location = \"cpu\")\n",
    "model.load_state_dict(params['model_state_dict'])\n",
    "model.eval()\n",
    "\n",
    "err_x = []\n",
    "err_y = []\n",
    "err_yaw = []\n",
    "\n",
    "hidden_test1 = torch.zeros(1, 1, hidden_dim[0], requires_grad=False)#.to(device)\n",
    "cell_test1 = torch.zeros(1, 1, hidden_dim[0], requires_grad=False)#.to(device)\n",
    "hidden_test2 = torch.zeros(1, 1, hidden_dim[1], requires_grad=False)#.to(device)\n",
    "cell_test2 = torch.zeros(1, 1, hidden_dim[1], requires_grad=False)#.to(device)\n",
    " \n",
    "index = np.random.randint(len(Xval[seq_size-1::seq_size,:]))\n",
    "ts=int(round(time.time() * 1000))\n",
    "input = Xval_LSTM[:,index,:]\n",
    "\n",
    "Xo=Xval[seq_size-1::seq_size,:]\n",
    "hypo = model(input.view(seq_size,-1,input_dim),(hidden_test1, cell_test1),(hidden_test2, cell_test2))\n",
    "output=copy.deepcopy(Variable(hypo))\n",
    "output[:,0:2] = hypo[:,0:2]\n",
    " \n",
    "tf=int(round(time.time() * 1000))\n",
    "print(tf-ts,'ms')\n",
    " \n",
    "plt.title(\"Arbitrary sample - XY\")\n",
    "# plt.xlim(-22,22);plt.ylim(-22,22)\n",
    "plt.scatter(Xval_LSTM[:,index,0].cpu(), Xval_LSTM[:,index,1].cpu(),s=500.0, c='y', edgecolors='y', label='XY input')\n",
    "plt.scatter(Yval_LSTM[:,index,0].cpu(), Yval_LSTM[:,index,1].cpu(),s=200.0, c='r', edgecolors='r', label='XY expected')\n",
    "plt.scatter(output[:,0].item(), output[:,1].item(),s=100.0, c='b', edgecolors='black', linewidth=5, alpha=0.8 , label='XY predicted')\n",
    "plt.scatter(Xval_LSTM[0,index,0].cpu(), Xval_LSTM[0,index,1].cpu(),s=700.0, c='m', edgecolors='y', label='XY origin')\n",
    "plt.scatter(Xval_LSTM[-1,index,0].cpu(), Xval_LSTM[-1,index,1].cpu(),s=700.0, c='g', edgecolors='r', label='XY last')\n",
    "plt.legend(fontsize='x-large')\n",
    "plt.show()"
   ]
  },
  {
   "cell_type": "code",
   "execution_count": null,
   "metadata": {
    "executionInfo": {
     "elapsed": 60246,
     "status": "aborted",
     "timestamp": 1605525509547,
     "user": {
      "displayName": "Jinhyeok Jang",
      "photoUrl": "https://lh3.googleusercontent.com/a-/AOh14GgEcjZGr9nfbTQ1dLjaTvhrUf9gEpVuk8-H0jSEyQ=s64",
      "userId": "09237695505318520056"
     },
     "user_tz": -540
    },
    "id": "QGB2gzWIQR5N"
   },
   "outputs": [],
   "source": [
    "input = Xval[index,:]\n",
    " \n",
    "hidden_test1 = torch.zeros(1, 1, hidden_dim1).to(device)\n",
    "cell_test1 = torch.zeros(1, 1, hidden_dim1).to(device)\n",
    "hidden_test2 = torch.zeros(1, 1, hidden_dim2).to(device)\n",
    "cell_test2 = torch.zeros(1, 1, hidden_dim2).to(device)\n",
    "\n",
    "Xo=Xval\n",
    "hypo,(h1,c1),(h2,c2) = model(input.view(1,-1,input_dim),(hidden_test1, cell_test1),(hidden_test2, cell_test2))\n",
    "output=copy.deepcopy(Variable(hypo))\n",
    "output[:,0:2] = hypo[:,0:2]\n",
    " \n",
    "plt.title(\"Arbitrary sample - XY\")\n",
    "# plt.xlim(-22,22);plt.ylim(-22,22)\n",
    "plt.scatter(Xval[index,0].cpu(), Xval[index,1].cpu(),s=500.0, c='y', edgecolors='y', label='XY origin')\n",
    "plt.scatter(Yval[index,0].cpu(), Yval[index,1].cpu(),s=300.0, c='r', edgecolors='y', label='XY expected')\n",
    "plt.scatter(output[:,0].item(), output[:,1].item(),s=100.0, c='b', edgecolors='black', linewidth=5, alpha=0.8 , label='XY predicted')\n",
    "plt.legend(fontsize='x-large')\n",
    "plt.show()"
   ]
  },
  {
   "cell_type": "code",
   "execution_count": 18,
   "metadata": {
    "executionInfo": {
     "elapsed": 60240,
     "status": "aborted",
     "timestamp": 1605525509548,
     "user": {
      "displayName": "Jinhyeok Jang",
      "photoUrl": "https://lh3.googleusercontent.com/a-/AOh14GgEcjZGr9nfbTQ1dLjaTvhrUf9gEpVuk8-H0jSEyQ=s64",
      "userId": "09237695505318520056"
     },
     "user_tz": -540
    },
    "id": "k5Z1L-VRmV2o"
   },
   "outputs": [
    {
     "ename": "NameError",
     "evalue": "name 'Xte_LSTM' is not defined",
     "output_type": "error",
     "traceback": [
      "\u001b[0;31m---------------------------------------------------------------------------\u001b[0m",
      "\u001b[0;31mNameError\u001b[0m                                 Traceback (most recent call last)",
      "\u001b[0;32m<ipython-input-18-86ea9b96a4b0>\u001b[0m in \u001b[0;36m<module>\u001b[0;34m\u001b[0m\n\u001b[1;32m      2\u001b[0m \u001b[0;31m# input = Xte.reshape(input_dim,-1,1)\u001b[0m\u001b[0;34m\u001b[0m\u001b[0;34m\u001b[0m\u001b[0;34m\u001b[0m\u001b[0m\n\u001b[1;32m      3\u001b[0m \u001b[0;31m# input = Xte.reshape(3,-1,1)\u001b[0m\u001b[0;34m\u001b[0m\u001b[0;34m\u001b[0m\u001b[0;34m\u001b[0m\u001b[0m\n\u001b[0;32m----> 4\u001b[0;31m \u001b[0minput\u001b[0m \u001b[0;34m=\u001b[0m \u001b[0mXte_LSTM\u001b[0m\u001b[0;34m\u001b[0m\u001b[0;34m\u001b[0m\u001b[0m\n\u001b[0m\u001b[1;32m      5\u001b[0m \u001b[0;31m# input = Xte_ori\u001b[0m\u001b[0;34m\u001b[0m\u001b[0;34m\u001b[0m\u001b[0;34m\u001b[0m\u001b[0m\n\u001b[1;32m      6\u001b[0m \u001b[0mhidden_test1\u001b[0m \u001b[0;34m=\u001b[0m \u001b[0mtorch\u001b[0m\u001b[0;34m.\u001b[0m\u001b[0mzeros\u001b[0m\u001b[0;34m(\u001b[0m\u001b[0;36m1\u001b[0m\u001b[0;34m,\u001b[0m \u001b[0mNUM_val\u001b[0m\u001b[0;34m,\u001b[0m \u001b[0mhidden_dim1\u001b[0m\u001b[0;34m)\u001b[0m\u001b[0;31m#.to(device)\u001b[0m\u001b[0;34m\u001b[0m\u001b[0;34m\u001b[0m\u001b[0m\n",
      "\u001b[0;31mNameError\u001b[0m: name 'Xte_LSTM' is not defined"
     ]
    }
   ],
   "source": [
    "batch_test = 1000\n",
    "# input = Xte.reshape(input_dim,-1,1)\n",
    "# input = Xte.reshape(3,-1,1)\n",
    "input = Xte_LSTM\n",
    "# input = Xte_ori\n",
    "hidden_test1 = torch.zeros(1, NUM_val, hidden_dim1)#.to(device)\n",
    "cell_test1 = torch.zeros(1, NUM_val, hidden_dim1)#.to(device)\n",
    "hidden_test2 = torch.zeros(1, NUM_val, hidden_dim2)#.to(device)\n",
    "cell_test2 = torch.zeros(1, NUM_val, hidden_dim2)#.to(device)\n",
    "hypo,(h1,c1),(h2,c2)  = model(input,(hidden_test1, cell_test1),(hidden_test2, cell_test2))\n",
    "output=copy.deepcopy(Variable(hypo))\n",
    "output[:,0:2] = hypo[:,0:2]/scaler + Xte_ori[:,0:2].to(device)\n",
    "output[:,2] = hypo[:,2] + Xte_ori[:,2].to(device)\n",
    "\n",
    "error_input = np.sqrt((np.square(Xte_ori[:,0:-2].cpu().numpy() - output.detach().cpu().numpy())).mean())\n",
    "error = (output-Yte_ori).cpu().detach().numpy()\n",
    "for i in range(len(error)):\n",
    "        if abs(error[i,2]) > 180:\n",
    "          error[i,2] = np.sign(error[i,2])*(360-abs(error[i,2]));\n",
    "error_target = np.sqrt(np.square(error).mean())\n",
    "\n",
    "Pred = output.cpu().detach().numpy()\n",
    " \n",
    "num_sam = 100\n",
    "plt.title(str(num_sam)+ \" samples. vs. Input - XY\")\n",
    "plt.scatter(Xte_LSTM_ori[0,0:num_sam,0].cpu(), Xte_LSTM_ori[1,0:num_sam,0].cpu(),s=50.0, c='y', edgecolors='black')\n",
    "plt.scatter(Pred[0:num_sam,0], Pred[0:num_sam,1],s=50.0 , c='c', edgecolors='black', alpha=0.8)\n",
    "plt.show()\n",
    "plt.title(str(num_sam)+ \" samples. vs. Target - XY\")\n",
    "plt.scatter(Yte_LSTM_ori[0,0:num_sam,0].cpu(), Yte_LSTM_ori[1,0:num_sam,0].cpu(),s=50.0 , c='r', edgecolors='black')\n",
    "plt.scatter(Pred[0:num_sam,0], Pred[0:num_sam,1],s=50.0 , c='c', edgecolors='black', alpha=0.8)\n",
    "plt.show()\n",
    "\n",
    "plt.title(str(num_sam)+ \" samples. vs. Input - Yaw\")\n",
    "plt.plot(Xte_LSTM_ori[2,0:num_sam,0].cpu(),'.', c='y')\n",
    "plt.plot(Pred[0:num_sam,2],'.', c='c', alpha=0.8)\n",
    "plt.show()\n",
    "plt.title(str(num_sam)+ \" samples. vs. Target - Yaw\")\n",
    "plt.plot(Yte_LSTM_ori[2,0:num_sam,0].cpu(),'.', c='r')\n",
    "plt.plot(Pred[0:num_sam,2],'.', c='c', alpha=0.8)\n",
    "plt.show()\n",
    "\n",
    "plt.title(str(num_sam)+ \" samples. vs. Input - dx\")\n",
    "Xte_ori=Xte_ori.cpu()\n",
    "plt.ylim(min(np.min(Pred[0:num_sam,0]-Xte_ori[0:num_sam,0].numpy()),np.min(error[0:num_sam,0])),max(np.max(Pred[0:num_sam,0]-Xte_ori[0:num_sam,0].numpy()),np.max(error[0:num_sam,0])))\n",
    "plt.plot(Pred[0:num_sam,0]-Xte_ori[0:num_sam,0].numpy(),'.', c='y')\n",
    "plt.title(str(num_sam)+ \" samples. vs. Target - dx\")\n",
    "plt.ylim(min(np.min(Pred[0:num_sam,0]-Xte_ori[0:num_sam,0].numpy()),np.min(error[0:num_sam,0])),max(np.max(Pred[0:num_sam,0]-Xte_ori[0:num_sam,0].numpy()),np.max(error[0:num_sam,0])))\n",
    "plt.plot(error[0:num_sam,0],'.', c='r')\n",
    "plt.show()\n",
    "\n",
    "plt.title(str(num_sam)+ \" samples. vs. Input - dy\")\n",
    "plt.ylim(min(np.min(Pred[0:num_sam,1]-Xte_ori[0:num_sam,1].numpy()),np.min(error[0:num_sam,1])),max(np.max(Pred[0:num_sam,1]-Xte_ori[0:num_sam,1].numpy()),np.max(error[0:num_sam,1])))\n",
    "plt.plot(Pred[0:num_sam,1]-Xte_ori[0:num_sam,1].numpy(),'.', c='y')\n",
    "plt.title(str(num_sam)+ \" samples. vs. Target - dy\")\n",
    "plt.ylim(min(np.min(Pred[0:num_sam,1]-Xte_ori[0:num_sam,1].numpy()),np.min(error[0:num_sam,1])),max(np.max(Pred[0:num_sam,1]-Xte_ori[0:num_sam,1].numpy()),np.max(error[0:num_sam,1])))\n",
    "plt.plot(error[0:num_sam,1],'.', c='r')\n",
    "plt.show()\n",
    "\n",
    "plt.title(str(num_sam)+ \" samples. vs. Input - dYaw\")\n",
    "plt.ylim(min(np.min(Pred[0:num_sam,2]-Xte_ori[0:num_sam,2].numpy()),np.min(error[0:num_sam,2])),max(np.max(Pred[0:num_sam,2]-Xte_ori[0:num_sam,2].numpy()),np.max(error[0:num_sam,2])))\n",
    "plt.plot(Pred[0:num_sam,2]-Xte_ori[0:num_sam,2].numpy(),'.', c='y')\n",
    "plt.title(str(num_sam)+ \" samples. vs. Target - dYaw\")\n",
    "plt.ylim(min(np.min(Pred[0:num_sam,2]-Xte_ori[0:num_sam,2].numpy()),np.min(error[0:num_sam,2])),max(np.max(Pred[0:num_sam,2]-Xte_ori[0:num_sam,2].numpy()),np.max(error[0:num_sam,2])))\n",
    "plt.plot(error[0:num_sam,2],'.', c='r')\n",
    "plt.show()\n",
    "\n",
    "# plt.title(str(num_sam)+ \" sample - X\")\n",
    "# plt.plot(Yte_LSTM_ori[0,0:num_sam,0],'.', c='r')\n",
    "# plt.plot(Pred[0:num_sam,0],'.', c='c', alpha=0.8)\n",
    "# plt.show()\n",
    "# plt.title(str(num_sam)+ \" sample - Y\")\n",
    "# plt.plot(Yte_LSTM_ori[1,0:num_sam,0],'.', c='r')\n",
    "# plt.plot(Pred[0:num_sam,1],'.', c='c', alpha=0.8)\n",
    "# plt.show()\n",
    " \n",
    "Yte_LSTM_ori=Yte_LSTM_ori.cpu()\n",
    "plt.title(\"Expected - Predicted - X\")\n",
    "plt.scatter(Yte_LSTM_ori[0,:,0], Pred[:,0], s=20.0 , c='r', edgecolors='black')\n",
    "plt.show()\n",
    " \n",
    "plt.title(\"Expected - Predicted - Y\")\n",
    "plt.scatter(Yte_LSTM_ori[1,:,0], Pred[:,1], s=20.0 , c='g', edgecolors='black')\n",
    "plt.show()\n",
    " \n",
    "plt.title(\"Expected - Predicted - YAW\")\n",
    "plt.scatter(Yte_LSTM_ori[2,:,0], Pred[:,2], s=20.0 , c='c', edgecolors='black')\n",
    "plt.show()\n",
    " \n",
    "print(\"TEST error     : \",error_target)\n",
    "print(\"TEST error_in  : \",error_input)\n",
    "print(\"TEST dist      : \", np.sqrt((np.square(Yte_ori[:,0:2].cpu().numpy() - output[:,0:2].cpu().detach().numpy())).mean()))\n",
    "print(\"TEST dist_in   : \", np.sqrt((np.square(Xte_ori[:,0:2].cpu().numpy() - output[:,0:2].cpu().detach().numpy())).mean()))\n",
    "\n",
    "print(\"TEST dyaw      : \", np.sqrt(np.square(error[:,2].mean())))\n",
    "print(\"TEST dyaw_in   : \", np.sqrt((np.square(Xte_ori[:,2].cpu().numpy() - output[:,2].cpu().detach().numpy())).mean()))\n",
    "\n",
    "print(\"TEST dvel      : \", np.sqrt((np.square(Yte_ori[:,3:6].cpu().numpy() - output[:,3:6].cpu().detach().numpy())).mean()))\n",
    "print(\"TEST delv_in   : \", np.sqrt((np.square(Xte_ori[:,3:6].cpu().numpy() - output[:,3:6].cpu().detach().numpy())).mean()))\n",
    "\n",
    "print(\"TEST domg      : \", np.sqrt((np.square(Yte_ori[:,6:8].cpu().numpy() - output[:,6:8].cpu().detach().numpy())).mean()))\n",
    "print(\"TEST domg_in   : \", np.sqrt((np.square(Xte_ori[:,6:8].cpu().numpy() - output[:,6:8].cpu().detach().numpy())).mean()))\n",
    "\n",
    "print('TEST input     : ',Xte_LSTM_ori[0:3,index,:].T.cpu().detach().numpy()[0])\n",
    "print('TEST expected  : ',Yte_LSTM_ori[0:3,index,:].T.cpu().detach().numpy()[0])\n",
    "print('TEST predict   : ',Pred[index,0:3])"
   ]
  },
  {
   "cell_type": "code",
   "execution_count": null,
   "metadata": {
    "executionInfo": {
     "elapsed": 60234,
     "status": "aborted",
     "timestamp": 1605525509549,
     "user": {
      "displayName": "Jinhyeok Jang",
      "photoUrl": "https://lh3.googleusercontent.com/a-/AOh14GgEcjZGr9nfbTQ1dLjaTvhrUf9gEpVuk8-H0jSEyQ=s64",
      "userId": "09237695505318520056"
     },
     "user_tz": -540
    },
    "id": "ONcMg0KK5FMe"
   },
   "outputs": [],
   "source": [
    "print(\"Training data\")\n",
    "plt.title(\"Training - XY\")\n",
    "plt.scatter(Xtr_LSTM_ori[0,:,:], Xtr_LSTM_ori[1,:,:],s=20.0 , c='r', edgecolors='black')\n",
    "plt.show()\n",
    "plt.title(\"Training - X\")\n",
    "plt.plot(Xtr_LSTM_ori[0,:,:],'.', c='c')\n",
    "plt.show()\n",
    "plt.title(\"Training - Y\")\n",
    "plt.plot(Xtr_LSTM_ori[1,:,:],'.', c='c')\n",
    "plt.show()\n",
    "plt.title(\"Training - YAW\")\n",
    "plt.plot(Xtr_LSTM_ori[2,:,:],'.', c='c')\n",
    "plt.show()\n",
    "plt.title(\"Training - V\")\n",
    "plt.scatter(Xtr_LSTM_ori[3,:,:], Xtr_LSTM_ori[4,:,:],s=20.0 , c='y', edgecolors='black')\n",
    "plt.show()\n",
    "plt.title(\"Training - Vx\")\n",
    "plt.plot(Xtr_ori[:,3],'.', c='g')\n",
    "plt.show()\n",
    "plt.title(\"Training - Vy\")\n",
    "plt.plot(Xtr_ori[:,4],'.', c='g')\n",
    "plt.show()\n",
    "plt.title(\"Training - Vyaw\")\n",
    "plt.plot(Xtr_ori[:,5],'.', c='g')\n",
    "plt.show()\n",
    "plt.title(\"Training - wR\")\n",
    "plt.plot(Xtr_ori[:,6],'.', c='g')\n",
    "plt.show()\n",
    "plt.title(\"Training - wL\")\n",
    "plt.plot(Xtr_ori[:,7],'.', c='g')\n",
    "plt.show()\n",
    "plt.title(\"Training - tR\")\n",
    "plt.plot(Xtr_ori[:,8],'.', c='g')\n",
    "plt.show()\n",
    "plt.title(\"Training - tL\")\n",
    "plt.plot(Xtr_ori[:,9],'.', c='g')\n",
    "plt.show()"
   ]
  },
  {
   "cell_type": "code",
   "execution_count": null,
   "metadata": {
    "collapsed": true,
    "executionInfo": {
     "elapsed": 60222,
     "status": "aborted",
     "timestamp": 1605525509550,
     "user": {
      "displayName": "Jinhyeok Jang",
      "photoUrl": "https://lh3.googleusercontent.com/a-/AOh14GgEcjZGr9nfbTQ1dLjaTvhrUf9gEpVuk8-H0jSEyQ=s64",
      "userId": "09237695505318520056"
     },
     "user_tz": -540
    },
    "id": "Yla36nCnmgeM",
    "jupyter": {
     "outputs_hidden": true
    }
   },
   "outputs": [],
   "source": []
  },
  {
   "cell_type": "code",
   "execution_count": null,
   "metadata": {},
   "outputs": [],
   "source": [
    "import torch \n",
    "import pandas as pd\n",
    "import numpy as np\n",
    "from tqdm import tqdm\n",
    "\n",
    "data = pd.read_csv('../../data/csv/Hound_data.txt')\n",
    "\n",
    "Quad_data = torch.tensor(data.values)\n",
    "Quad_data = Quad_data[:-1,:]\n",
    "print(np.shape(Quad_data))\n",
    "data"
   ]
  },
  {
   "cell_type": "code",
   "execution_count": null,
   "metadata": {},
   "outputs": [],
   "source": [
    "path=[0]*data.PathNum.values.max()\n",
    "path_idx=-1\n",
    "\n",
    "for idx in tqdm(range(len(data)), position=0, leave=True):\n",
    "  if path_idx+1 == data.PathNum.values[idx]:\n",
    "    tmp=[]\n",
    "    path_idx = path_idx+1\n",
    "  if data.PathNum[idx]==path_idx:\n",
    "    tmp.append(data.values[idx,:])\n",
    "    path[path_idx]=tmp\n",
    "\n",
    "print(np.shape(path))\n",
    "print(path)"
   ]
  },
  {
   "cell_type": "code",
   "execution_count": null,
   "metadata": {},
   "outputs": [],
   "source": []
  }
 ],
 "metadata": {
  "accelerator": "GPU",
  "colab": {
   "authorship_tag": "ABX9TyPuT03Y2SsjS34+0aW8HDd3",
   "collapsed_sections": [],
   "mount_file_id": "1ako2vT-VmK0a73N6hA1W-BQYKglub1iv",
   "name": "PI_LSTMsNN_Quadruped.ipynb",
   "provenance": [
    {
     "file_id": "1GlrcdI8P7jeZqVkuUSfyE0pIBF1juS3y",
     "timestamp": 1605249608485
    },
    {
     "file_id": "1Gvb7XV3Jv7GhGNbJMye23DRdu5ubPxki",
     "timestamp": 1605181890521
    },
    {
     "file_id": "1W24XkYocc5hOTmsQFxJoC-yh7T_GjnBh",
     "timestamp": 1597804915213
    }
   ]
  },
  "kernelspec": {
   "display_name": "Python 3",
   "language": "python",
   "name": "python3"
  },
  "language_info": {
   "codemirror_mode": {
    "name": "ipython",
    "version": 3
   },
   "file_extension": ".py",
   "mimetype": "text/x-python",
   "name": "python",
   "nbconvert_exporter": "python",
   "pygments_lexer": "ipython3",
   "version": "3.7.5"
  }
 },
 "nbformat": 4,
 "nbformat_minor": 4
}
